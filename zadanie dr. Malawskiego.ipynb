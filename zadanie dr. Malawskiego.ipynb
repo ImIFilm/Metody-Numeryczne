{
 "cells": [
  {
   "cell_type": "code",
   "execution_count": 2,
   "metadata": {},
   "outputs": [
    {
     "data": {
      "text/plain": [
       "2×2 Array{Float64,2}:\n",
       " 1.0  0.0\n",
       " 0.0  1.0"
      ]
     },
     "execution_count": 2,
     "metadata": {},
     "output_type": "execute_result"
    }
   ],
   "source": [
    "#tablice wielowymiarowe w Julii\n",
    "Asmall=[[1.0 0.0]; [0.0 1.0]]\n",
    "Bsmall=Asmall\n",
    "#size(B,1)"
   ]
  },
  {
   "cell_type": "code",
   "execution_count": 3,
   "metadata": {},
   "outputs": [
    {
     "data": {
      "text/plain": [
       "naive_multiplication (generic function with 1 method)"
      ]
     },
     "execution_count": 3,
     "metadata": {},
     "output_type": "execute_result"
    }
   ],
   "source": [
    "# mnożenie macierzy - wersja naiwna\n",
    "function naive_multiplication(A,B)\n",
    "C=zeros(Float64,size(A,1),size(B,2))\n",
    "  for i=1:size(A,1)\n",
    "    for j=1:size(B,2)\n",
    "        for k=1:size(A,2)\n",
    "            C[i,j]=C[i,j]+A[i,k]*B[k,j]\n",
    "        end\n",
    "    end\n",
    "end\n",
    "C\n",
    "end"
   ]
  },
  {
   "cell_type": "code",
   "execution_count": 4,
   "metadata": {},
   "outputs": [
    {
     "data": {
      "text/plain": [
       "2×2 Array{Float64,2}:\n",
       " 1.0  0.0\n",
       " 0.0  1.0"
      ]
     },
     "execution_count": 4,
     "metadata": {},
     "output_type": "execute_result"
    }
   ],
   "source": [
    "#kompilacja\n",
    "naive_multiplication(Asmall,Bsmall)"
   ]
  },
  {
   "cell_type": "code",
   "execution_count": 5,
   "metadata": {},
   "outputs": [
    {
     "data": {
      "text/plain": [
       "2×2 Array{Float64,2}:\n",
       " 1.0  0.0\n",
       " 0.0  1.0"
      ]
     },
     "execution_count": 5,
     "metadata": {},
     "output_type": "execute_result"
    }
   ],
   "source": [
    "#kompilacja funkcji BLASowej do mnożenia macierzy\n",
    "#https://docs.julialang.org/en/stable/stdlib/linalg/#BLAS-Functions-1\n",
    "Asmall*Bsmall"
   ]
  },
  {
   "cell_type": "code",
   "execution_count": 6,
   "metadata": {},
   "outputs": [],
   "source": [
    "A=rand(1000,1000);\n",
    "B=rand(1000,1000);"
   ]
  },
  {
   "cell_type": "code",
   "execution_count": 7,
   "metadata": {},
   "outputs": [
    {
     "data": {
      "text/plain": [
       "4-element Array{Int64,1}:\n",
       " 1\n",
       " 3\n",
       " 2\n",
       " 4"
      ]
     },
     "execution_count": 7,
     "metadata": {},
     "output_type": "execute_result"
    }
   ],
   "source": [
    "# Należy pamiętać o \"column-major\" dostępie do tablic - \n",
    "# pierwszy indeks zmienia się szybciej\n",
    "# tak jak Matlab, R, Fortran \n",
    "# inaczej niz C, Python\n",
    "A1 = [[1 2]; [3 4]]\n",
    "vec(A1)"
   ]
  },
  {
   "cell_type": "code",
   "execution_count": 8,
   "metadata": {},
   "outputs": [
    {
     "data": {
      "text/plain": [
       "better_multiplication (generic function with 1 method)"
      ]
     },
     "execution_count": 8,
     "metadata": {},
     "output_type": "execute_result"
    }
   ],
   "source": [
    "# poprawiona funkcja korzytająca z powyższego oraz z faktu, że\n",
    "#można zmieniać kolejność operacji dodawania (a co za tym idzie kolejnosc petli).\n",
    "function better_multiplication( A,B )\n",
    "C=zeros(Float64,size(A,1),size(B,2))\n",
    "  for j=1:size(B,2)\n",
    "    for k=1:size(A,2)\n",
    "        for i=1:size(A,1)\n",
    "            C[i,j]=C[i,j]+A[i,k]*B[k,j]\n",
    "        end\n",
    "    end\n",
    "end\n",
    "C\n",
    "end"
   ]
  },
  {
   "cell_type": "code",
   "execution_count": 9,
   "metadata": {},
   "outputs": [
    {
     "data": {
      "text/plain": [
       "2×2 Array{Float64,2}:\n",
       " 1.0  0.0\n",
       " 0.0  1.0"
      ]
     },
     "execution_count": 9,
     "metadata": {},
     "output_type": "execute_result"
    }
   ],
   "source": [
    "better_multiplication(Asmall, Bsmall)"
   ]
  },
  {
   "cell_type": "code",
   "execution_count": 10,
   "metadata": {},
   "outputs": [
    {
     "data": {
      "text/plain": [
       "4.063740528"
      ]
     },
     "execution_count": 10,
     "metadata": {},
     "output_type": "execute_result"
    }
   ],
   "source": [
    "@elapsed naive_multiplication(A,B)"
   ]
  },
  {
   "cell_type": "code",
   "execution_count": 11,
   "metadata": {},
   "outputs": [
    {
     "data": {
      "text/plain": [
       "2.00211698"
      ]
     },
     "execution_count": 11,
     "metadata": {},
     "output_type": "execute_result"
    }
   ],
   "source": [
    "@elapsed better_multiplication(A,B)"
   ]
  },
  {
   "cell_type": "code",
   "execution_count": 12,
   "metadata": {},
   "outputs": [
    {
     "data": {
      "text/plain": [
       "0.077202301"
      ]
     },
     "execution_count": 12,
     "metadata": {},
     "output_type": "execute_result"
    }
   ],
   "source": [
    "@elapsed A*B"
   ]
  },
  {
   "cell_type": "code",
   "execution_count": 13,
   "metadata": {},
   "outputs": [
    {
     "data": {
      "text/html": [
       "&#45;1086.8658708490402 &#43; 2905.5721994684973&#8729;x &#45; 1082.7457238744728&#8729;x^2 &#43; 100.44658880845468&#8729;x^3"
      ],
      "text/latex": [
       "$-1086.8658708490402 + 2905.5721994684973\\cdot x - 1082.7457238744728\\cdot x^{2} + 100.44658880845468\\cdot x^{3}$"
      ],
      "text/plain": [
       "Poly(-1086.8658708490402 + 2905.5721994684973*x - 1082.7457238744728*x^2 + 100.44658880845468*x^3)"
      ]
     },
     "execution_count": 13,
     "metadata": {},
     "output_type": "execute_result"
    }
   ],
   "source": [
    "using Polynomials\n",
    "xs = 0:10; ys = map(x->exp(x), xs)\n",
    "fit1=polyfit(xs, ys,3)"
   ]
  },
  {
   "cell_type": "code",
   "execution_count": 14,
   "metadata": {},
   "outputs": [
    {
     "data": {
      "text/plain": [
       "836.4071935534389"
      ]
     },
     "execution_count": 14,
     "metadata": {},
     "output_type": "execute_result"
    }
   ],
   "source": [
    "fit1(1)"
   ]
  },
  {
   "cell_type": "code",
   "execution_count": 15,
   "metadata": {},
   "outputs": [
    {
     "data": {
      "text/plain": [
       "836.4071935534389"
      ]
     },
     "execution_count": 15,
     "metadata": {},
     "output_type": "execute_result"
    }
   ],
   "source": [
    "polyval(fit1, 1)"
   ]
  },
  {
   "cell_type": "code",
   "execution_count": 16,
   "metadata": {},
   "outputs": [
    {
     "data": {
      "image/svg+xml": [
       "<?xml version=\"1.0\" encoding=\"utf-8\"?>\n",
       "<svg xmlns=\"http://www.w3.org/2000/svg\" xmlns:xlink=\"http://www.w3.org/1999/xlink\" width=\"600\" height=\"400\" viewBox=\"0 0 2400 1600\">\n",
       "<defs>\n",
       "  <clipPath id=\"clip6500\">\n",
       "    <rect x=\"0\" y=\"0\" width=\"2000\" height=\"2000\"/>\n",
       "  </clipPath>\n",
       "</defs>\n",
       "<defs>\n",
       "  <clipPath id=\"clip6501\">\n",
       "    <rect x=\"0\" y=\"0\" width=\"2400\" height=\"1600\"/>\n",
       "  </clipPath>\n",
       "</defs>\n",
       "<polygon clip-path=\"url(#clip6501)\" points=\"\n",
       "0,1600 2400,1600 2400,0 0,0 \n",
       "  \" fill=\"#ffffff\" fill-rule=\"evenodd\" fill-opacity=\"1\"/>\n",
       "<defs>\n",
       "  <clipPath id=\"clip6502\">\n",
       "    <rect x=\"480\" y=\"0\" width=\"1681\" height=\"1600\"/>\n",
       "  </clipPath>\n",
       "</defs>\n",
       "<polygon clip-path=\"url(#clip6501)\" points=\"\n",
       "295.446,1503.47 2321.26,1503.47 2321.26,47.2441 295.446,47.2441 \n",
       "  \" fill=\"#ffffff\" fill-rule=\"evenodd\" fill-opacity=\"1\"/>\n",
       "<defs>\n",
       "  <clipPath id=\"clip6503\">\n",
       "    <rect x=\"295\" y=\"47\" width=\"2027\" height=\"1457\"/>\n",
       "  </clipPath>\n",
       "</defs>\n",
       "<polyline clip-path=\"url(#clip6503)\" style=\"stroke:#000000; stroke-width:2; stroke-opacity:0.1; fill:none\" points=\"\n",
       "  352.781,1503.47 352.781,47.2441 \n",
       "  \"/>\n",
       "<polyline clip-path=\"url(#clip6503)\" style=\"stroke:#000000; stroke-width:2; stroke-opacity:0.1; fill:none\" points=\"\n",
       "  830.567,1503.47 830.567,47.2441 \n",
       "  \"/>\n",
       "<polyline clip-path=\"url(#clip6503)\" style=\"stroke:#000000; stroke-width:2; stroke-opacity:0.1; fill:none\" points=\"\n",
       "  1308.35,1503.47 1308.35,47.2441 \n",
       "  \"/>\n",
       "<polyline clip-path=\"url(#clip6503)\" style=\"stroke:#000000; stroke-width:2; stroke-opacity:0.1; fill:none\" points=\"\n",
       "  1786.14,1503.47 1786.14,47.2441 \n",
       "  \"/>\n",
       "<polyline clip-path=\"url(#clip6503)\" style=\"stroke:#000000; stroke-width:2; stroke-opacity:0.1; fill:none\" points=\"\n",
       "  2263.93,1503.47 2263.93,47.2441 \n",
       "  \"/>\n",
       "<polyline clip-path=\"url(#clip6503)\" style=\"stroke:#000000; stroke-width:2; stroke-opacity:0.1; fill:none\" points=\"\n",
       "  295.446,1393.93 2321.26,1393.93 \n",
       "  \"/>\n",
       "<polyline clip-path=\"url(#clip6503)\" style=\"stroke:#000000; stroke-width:2; stroke-opacity:0.1; fill:none\" points=\"\n",
       "  295.446,1097.59 2321.26,1097.59 \n",
       "  \"/>\n",
       "<polyline clip-path=\"url(#clip6503)\" style=\"stroke:#000000; stroke-width:2; stroke-opacity:0.1; fill:none\" points=\"\n",
       "  295.446,801.246 2321.26,801.246 \n",
       "  \"/>\n",
       "<polyline clip-path=\"url(#clip6503)\" style=\"stroke:#000000; stroke-width:2; stroke-opacity:0.1; fill:none\" points=\"\n",
       "  295.446,504.905 2321.26,504.905 \n",
       "  \"/>\n",
       "<polyline clip-path=\"url(#clip6503)\" style=\"stroke:#000000; stroke-width:2; stroke-opacity:0.1; fill:none\" points=\"\n",
       "  295.446,208.563 2321.26,208.563 \n",
       "  \"/>\n",
       "<polyline clip-path=\"url(#clip6501)\" style=\"stroke:#000000; stroke-width:4; stroke-opacity:1; fill:none\" points=\"\n",
       "  295.446,1503.47 2321.26,1503.47 \n",
       "  \"/>\n",
       "<polyline clip-path=\"url(#clip6501)\" style=\"stroke:#000000; stroke-width:4; stroke-opacity:1; fill:none\" points=\"\n",
       "  295.446,1503.47 295.446,47.2441 \n",
       "  \"/>\n",
       "<polyline clip-path=\"url(#clip6501)\" style=\"stroke:#000000; stroke-width:4; stroke-opacity:1; fill:none\" points=\"\n",
       "  352.781,1503.47 352.781,1481.63 \n",
       "  \"/>\n",
       "<polyline clip-path=\"url(#clip6501)\" style=\"stroke:#000000; stroke-width:4; stroke-opacity:1; fill:none\" points=\"\n",
       "  830.567,1503.47 830.567,1481.63 \n",
       "  \"/>\n",
       "<polyline clip-path=\"url(#clip6501)\" style=\"stroke:#000000; stroke-width:4; stroke-opacity:1; fill:none\" points=\"\n",
       "  1308.35,1503.47 1308.35,1481.63 \n",
       "  \"/>\n",
       "<polyline clip-path=\"url(#clip6501)\" style=\"stroke:#000000; stroke-width:4; stroke-opacity:1; fill:none\" points=\"\n",
       "  1786.14,1503.47 1786.14,1481.63 \n",
       "  \"/>\n",
       "<polyline clip-path=\"url(#clip6501)\" style=\"stroke:#000000; stroke-width:4; stroke-opacity:1; fill:none\" points=\"\n",
       "  2263.93,1503.47 2263.93,1481.63 \n",
       "  \"/>\n",
       "<polyline clip-path=\"url(#clip6501)\" style=\"stroke:#000000; stroke-width:4; stroke-opacity:1; fill:none\" points=\"\n",
       "  295.446,1393.93 325.834,1393.93 \n",
       "  \"/>\n",
       "<polyline clip-path=\"url(#clip6501)\" style=\"stroke:#000000; stroke-width:4; stroke-opacity:1; fill:none\" points=\"\n",
       "  295.446,1097.59 325.834,1097.59 \n",
       "  \"/>\n",
       "<polyline clip-path=\"url(#clip6501)\" style=\"stroke:#000000; stroke-width:4; stroke-opacity:1; fill:none\" points=\"\n",
       "  295.446,801.246 325.834,801.246 \n",
       "  \"/>\n",
       "<polyline clip-path=\"url(#clip6501)\" style=\"stroke:#000000; stroke-width:4; stroke-opacity:1; fill:none\" points=\"\n",
       "  295.446,504.905 325.834,504.905 \n",
       "  \"/>\n",
       "<polyline clip-path=\"url(#clip6501)\" style=\"stroke:#000000; stroke-width:4; stroke-opacity:1; fill:none\" points=\"\n",
       "  295.446,208.563 325.834,208.563 \n",
       "  \"/>\n",
       "<g clip-path=\"url(#clip6501)\">\n",
       "<text style=\"fill:#000000; fill-opacity:1; font-family:Arial,Helvetica Neue,Helvetica,sans-serif; font-size:48px; text-anchor:middle;\" transform=\"rotate(0, 352.781, 1557.47)\" x=\"352.781\" y=\"1557.47\">0.0</text>\n",
       "</g>\n",
       "<g clip-path=\"url(#clip6501)\">\n",
       "<text style=\"fill:#000000; fill-opacity:1; font-family:Arial,Helvetica Neue,Helvetica,sans-serif; font-size:48px; text-anchor:middle;\" transform=\"rotate(0, 830.567, 1557.47)\" x=\"830.567\" y=\"1557.47\">2.5</text>\n",
       "</g>\n",
       "<g clip-path=\"url(#clip6501)\">\n",
       "<text style=\"fill:#000000; fill-opacity:1; font-family:Arial,Helvetica Neue,Helvetica,sans-serif; font-size:48px; text-anchor:middle;\" transform=\"rotate(0, 1308.35, 1557.47)\" x=\"1308.35\" y=\"1557.47\">5.0</text>\n",
       "</g>\n",
       "<g clip-path=\"url(#clip6501)\">\n",
       "<text style=\"fill:#000000; fill-opacity:1; font-family:Arial,Helvetica Neue,Helvetica,sans-serif; font-size:48px; text-anchor:middle;\" transform=\"rotate(0, 1786.14, 1557.47)\" x=\"1786.14\" y=\"1557.47\">7.5</text>\n",
       "</g>\n",
       "<g clip-path=\"url(#clip6501)\">\n",
       "<text style=\"fill:#000000; fill-opacity:1; font-family:Arial,Helvetica Neue,Helvetica,sans-serif; font-size:48px; text-anchor:middle;\" transform=\"rotate(0, 2263.93, 1557.47)\" x=\"2263.93\" y=\"1557.47\">10.0</text>\n",
       "</g>\n",
       "<g clip-path=\"url(#clip6501)\">\n",
       "<text style=\"fill:#000000; fill-opacity:1; font-family:Arial,Helvetica Neue,Helvetica,sans-serif; font-size:48px; text-anchor:end;\" transform=\"rotate(0, 271.446, 1411.43)\" x=\"271.446\" y=\"1411.43\">0</text>\n",
       "</g>\n",
       "<g clip-path=\"url(#clip6501)\">\n",
       "<text style=\"fill:#000000; fill-opacity:1; font-family:Arial,Helvetica Neue,Helvetica,sans-serif; font-size:48px; text-anchor:start;\" transform=\"rotate(0, 101.161, 1121.32)\" x=\"101.161\" y=\"1121.32\">5.0×10</text>\n",
       "</g>\n",
       "<g clip-path=\"url(#clip6501)\">\n",
       "<text style=\"fill:#000000; fill-opacity:1; font-family:Arial,Helvetica Neue,Helvetica,sans-serif; font-size:38px; text-anchor:start;\" transform=\"rotate(0, 249.702, 1093.9)\" x=\"249.702\" y=\"1093.9\">3</text>\n",
       "</g>\n",
       "<g clip-path=\"url(#clip6501)\">\n",
       "<text style=\"fill:#000000; fill-opacity:1; font-family:Arial,Helvetica Neue,Helvetica,sans-serif; font-size:48px; text-anchor:start;\" transform=\"rotate(0, 101.161, 824.974)\" x=\"101.161\" y=\"824.974\">1.0×10</text>\n",
       "</g>\n",
       "<g clip-path=\"url(#clip6501)\">\n",
       "<text style=\"fill:#000000; fill-opacity:1; font-family:Arial,Helvetica Neue,Helvetica,sans-serif; font-size:38px; text-anchor:start;\" transform=\"rotate(0, 249.702, 797.563)\" x=\"249.702\" y=\"797.563\">4</text>\n",
       "</g>\n",
       "<g clip-path=\"url(#clip6501)\">\n",
       "<text style=\"fill:#000000; fill-opacity:1; font-family:Arial,Helvetica Neue,Helvetica,sans-serif; font-size:48px; text-anchor:start;\" transform=\"rotate(0, 101.161, 528.632)\" x=\"101.161\" y=\"528.632\">1.5×10</text>\n",
       "</g>\n",
       "<g clip-path=\"url(#clip6501)\">\n",
       "<text style=\"fill:#000000; fill-opacity:1; font-family:Arial,Helvetica Neue,Helvetica,sans-serif; font-size:38px; text-anchor:start;\" transform=\"rotate(0, 249.702, 501.222)\" x=\"249.702\" y=\"501.222\">4</text>\n",
       "</g>\n",
       "<g clip-path=\"url(#clip6501)\">\n",
       "<text style=\"fill:#000000; fill-opacity:1; font-family:Arial,Helvetica Neue,Helvetica,sans-serif; font-size:48px; text-anchor:start;\" transform=\"rotate(0, 101.161, 232.291)\" x=\"101.161\" y=\"232.291\">2.0×10</text>\n",
       "</g>\n",
       "<g clip-path=\"url(#clip6501)\">\n",
       "<text style=\"fill:#000000; fill-opacity:1; font-family:Arial,Helvetica Neue,Helvetica,sans-serif; font-size:38px; text-anchor:start;\" transform=\"rotate(0, 249.702, 204.881)\" x=\"249.702\" y=\"204.881\">4</text>\n",
       "</g>\n",
       "<polyline clip-path=\"url(#clip6503)\" style=\"stroke:#009af9; stroke-width:4; stroke-opacity:1; fill:none\" points=\"\n",
       "  352.781,1458.35 371.892,1441.76 391.004,1426.42 410.115,1412.3 429.227,1399.35 448.338,1387.54 467.449,1376.84 486.561,1367.2 505.672,1358.6 524.784,1351 \n",
       "  543.895,1344.36 563.007,1338.64 582.118,1333.82 601.23,1329.85 620.341,1326.7 639.452,1324.33 658.564,1322.71 677.675,1321.8 696.787,1321.57 715.898,1321.98 \n",
       "  735.01,1322.99 754.121,1324.58 773.233,1326.69 792.344,1329.31 811.455,1332.38 830.567,1335.88 849.678,1339.78 868.79,1344.02 887.901,1348.59 907.013,1353.44 \n",
       "  926.124,1358.53 945.236,1363.84 964.347,1369.33 983.459,1374.95 1002.57,1380.68 1021.68,1386.48 1040.79,1392.31 1059.9,1398.14 1079.02,1403.94 1098.13,1409.65 \n",
       "  1117.24,1415.26 1136.35,1420.72 1155.46,1426.01 1174.57,1431.07 1193.68,1435.88 1212.8,1440.41 1231.91,1444.61 1251.02,1448.45 1270.13,1451.89 1289.24,1454.91 \n",
       "  1308.35,1457.45 1327.46,1459.5 1346.58,1461.01 1365.69,1461.94 1384.8,1462.26 1403.91,1461.94 1423.02,1460.93 1442.13,1459.21 1461.24,1456.74 1480.36,1453.48 \n",
       "  1499.47,1449.39 1518.58,1444.45 1537.69,1438.61 1556.8,1431.84 1575.91,1424.1 1595.02,1415.36 1614.14,1405.58 1633.25,1394.72 1652.36,1382.76 1671.47,1369.65 \n",
       "  1690.58,1355.36 1709.69,1339.85 1728.8,1323.09 1747.92,1305.04 1767.03,1285.67 1786.14,1264.94 1805.25,1242.81 1824.36,1219.25 1843.47,1194.23 1862.59,1167.7 \n",
       "  1881.7,1139.63 1900.81,1109.99 1919.92,1078.74 1939.03,1045.84 1958.14,1011.26 1977.25,974.969 1996.37,936.921 2015.48,897.085 2034.59,855.425 2053.7,811.904 \n",
       "  2072.81,766.489 2091.92,719.142 2111.03,669.827 2130.15,618.511 2149.26,565.155 2168.37,509.725 2187.48,452.186 2206.59,392.501 2225.7,330.634 2244.81,266.551 \n",
       "  2263.93,200.214 \n",
       "  \"/>\n",
       "<circle clip-path=\"url(#clip6503)\" style=\"fill:#000000; stroke:none; fill-opacity:1\" cx=\"352.781\" cy=\"1393.87\" r=\"18\"/>\n",
       "<circle clip-path=\"url(#clip6503)\" style=\"fill:#e26f46; stroke:none; fill-opacity:1\" cx=\"352.781\" cy=\"1393.87\" r=\"14\"/>\n",
       "<circle clip-path=\"url(#clip6503)\" style=\"fill:#000000; stroke:none; fill-opacity:1\" cx=\"543.895\" cy=\"1393.77\" r=\"18\"/>\n",
       "<circle clip-path=\"url(#clip6503)\" style=\"fill:#e26f46; stroke:none; fill-opacity:1\" cx=\"543.895\" cy=\"1393.77\" r=\"14\"/>\n",
       "<circle clip-path=\"url(#clip6503)\" style=\"fill:#000000; stroke:none; fill-opacity:1\" cx=\"735.01\" cy=\"1393.49\" r=\"18\"/>\n",
       "<circle clip-path=\"url(#clip6503)\" style=\"fill:#e26f46; stroke:none; fill-opacity:1\" cx=\"735.01\" cy=\"1393.49\" r=\"14\"/>\n",
       "<circle clip-path=\"url(#clip6503)\" style=\"fill:#000000; stroke:none; fill-opacity:1\" cx=\"926.124\" cy=\"1392.74\" r=\"18\"/>\n",
       "<circle clip-path=\"url(#clip6503)\" style=\"fill:#e26f46; stroke:none; fill-opacity:1\" cx=\"926.124\" cy=\"1392.74\" r=\"14\"/>\n",
       "<circle clip-path=\"url(#clip6503)\" style=\"fill:#000000; stroke:none; fill-opacity:1\" cx=\"1117.24\" cy=\"1390.69\" r=\"18\"/>\n",
       "<circle clip-path=\"url(#clip6503)\" style=\"fill:#e26f46; stroke:none; fill-opacity:1\" cx=\"1117.24\" cy=\"1390.69\" r=\"14\"/>\n",
       "<circle clip-path=\"url(#clip6503)\" style=\"fill:#000000; stroke:none; fill-opacity:1\" cx=\"1308.35\" cy=\"1385.13\" r=\"18\"/>\n",
       "<circle clip-path=\"url(#clip6503)\" style=\"fill:#e26f46; stroke:none; fill-opacity:1\" cx=\"1308.35\" cy=\"1385.13\" r=\"14\"/>\n",
       "<circle clip-path=\"url(#clip6503)\" style=\"fill:#000000; stroke:none; fill-opacity:1\" cx=\"1499.47\" cy=\"1370.02\" r=\"18\"/>\n",
       "<circle clip-path=\"url(#clip6503)\" style=\"fill:#e26f46; stroke:none; fill-opacity:1\" cx=\"1499.47\" cy=\"1370.02\" r=\"14\"/>\n",
       "<circle clip-path=\"url(#clip6503)\" style=\"fill:#000000; stroke:none; fill-opacity:1\" cx=\"1690.58\" cy=\"1328.93\" r=\"18\"/>\n",
       "<circle clip-path=\"url(#clip6503)\" style=\"fill:#e26f46; stroke:none; fill-opacity:1\" cx=\"1690.58\" cy=\"1328.93\" r=\"14\"/>\n",
       "<circle clip-path=\"url(#clip6503)\" style=\"fill:#000000; stroke:none; fill-opacity:1\" cx=\"1881.7\" cy=\"1217.25\" r=\"18\"/>\n",
       "<circle clip-path=\"url(#clip6503)\" style=\"fill:#e26f46; stroke:none; fill-opacity:1\" cx=\"1881.7\" cy=\"1217.25\" r=\"14\"/>\n",
       "<circle clip-path=\"url(#clip6503)\" style=\"fill:#000000; stroke:none; fill-opacity:1\" cx=\"2072.81\" cy=\"913.673\" r=\"18\"/>\n",
       "<circle clip-path=\"url(#clip6503)\" style=\"fill:#e26f46; stroke:none; fill-opacity:1\" cx=\"2072.81\" cy=\"913.673\" r=\"14\"/>\n",
       "<circle clip-path=\"url(#clip6503)\" style=\"fill:#000000; stroke:none; fill-opacity:1\" cx=\"2263.93\" cy=\"88.4582\" r=\"18\"/>\n",
       "<circle clip-path=\"url(#clip6503)\" style=\"fill:#e26f46; stroke:none; fill-opacity:1\" cx=\"2263.93\" cy=\"88.4582\" r=\"14\"/>\n",
       "<polygon clip-path=\"url(#clip6501)\" points=\"\n",
       "1958.43,312.204 2249.26,312.204 2249.26,130.764 1958.43,130.764 \n",
       "  \" fill=\"#ffffff\" fill-rule=\"evenodd\" fill-opacity=\"1\"/>\n",
       "<polyline clip-path=\"url(#clip6501)\" style=\"stroke:#000000; stroke-width:4; stroke-opacity:1; fill:none\" points=\"\n",
       "  1958.43,312.204 2249.26,312.204 2249.26,130.764 1958.43,130.764 1958.43,312.204 \n",
       "  \"/>\n",
       "<polyline clip-path=\"url(#clip6501)\" style=\"stroke:#009af9; stroke-width:4; stroke-opacity:1; fill:none\" points=\"\n",
       "  1982.43,191.244 2126.43,191.244 \n",
       "  \"/>\n",
       "<g clip-path=\"url(#clip6501)\">\n",
       "<text style=\"fill:#000000; fill-opacity:1; font-family:Arial,Helvetica Neue,Helvetica,sans-serif; font-size:48px; text-anchor:start;\" transform=\"rotate(0, 2150.43, 208.744)\" x=\"2150.43\" y=\"208.744\">y1</text>\n",
       "</g>\n",
       "<circle clip-path=\"url(#clip6501)\" style=\"fill:#000000; stroke:none; fill-opacity:1\" cx=\"2066.43\" cy=\"251.724\" r=\"25\"/>\n",
       "<circle clip-path=\"url(#clip6501)\" style=\"fill:#e26f46; stroke:none; fill-opacity:1\" cx=\"2066.43\" cy=\"251.724\" r=\"21\"/>\n",
       "<g clip-path=\"url(#clip6501)\">\n",
       "<text style=\"fill:#000000; fill-opacity:1; font-family:Arial,Helvetica Neue,Helvetica,sans-serif; font-size:48px; text-anchor:start;\" transform=\"rotate(0, 2150.43, 269.224)\" x=\"2150.43\" y=\"269.224\">y2</text>\n",
       "</g>\n",
       "</svg>\n"
      ]
     },
     "execution_count": 16,
     "metadata": {},
     "output_type": "execute_result"
    }
   ],
   "source": [
    "using Plots\n",
    "\n",
    "# geste punkty do wyliczenia wartosci wielomianu aproksymujacego:\n",
    "xd=0:0.1:10\n",
    "# wykres wartosci wielomianu dla gestych punktow:\n",
    "plot(xd,polyval(fit1, xd))\n",
    "\n",
    "# ! -dodanie do tego samego wykresu punktów wg ktorych aproksymowalismy\n",
    "scatter!(xs,ys)"
   ]
  },
  {
   "cell_type": "code",
   "execution_count": 34,
   "metadata": {},
   "outputs": [
    {
     "ename": "BoundsError",
     "evalue": "BoundsError: attempt to access 5-element StepRange{Int64,Int64} at index [1:50]",
     "output_type": "error",
     "traceback": [
      "BoundsError: attempt to access 5-element StepRange{Int64,Int64} at index [1:50]",
      "",
      "Stacktrace:",
      " [1] throw_boundserror(::StepRange{Int64,Int64}, ::Tuple{UnitRange{Int64}}) at .\\abstractarray.jl:484",
      " [2] checkbounds at .\\abstractarray.jl:449 [inlined]",
      " [3] getindex(::StepRange{Int64,Int64}, ::UnitRange{Int64}) at .\\range.jl:669",
      " [4] gr_display(::Plots.Subplot{Plots.GRBackend}, ::Measures.Length{:mm,Float64}, ::Measures.Length{:mm,Float64}, ::Array{Float64,1}) at C:\\Users\\ImI\\.julia\\packages\\Plots\\rmogG\\src\\backends\\gr.jl:994",
      " [5] gr_display(::Plots.Plot{Plots.GRBackend}, ::String) at C:\\Users\\ImI\\.julia\\packages\\Plots\\rmogG\\src\\backends\\gr.jl:526",
      " [6] _show(::Base.GenericIOBuffer{Array{UInt8,1}}, ::MIME{Symbol(\"image/svg+xml\")}, ::Plots.Plot{Plots.GRBackend}) at C:\\Users\\ImI\\.julia\\packages\\Plots\\rmogG\\src\\backends\\gr.jl:1358",
      " [7] show(::Base.GenericIOBuffer{Array{UInt8,1}}, ::MIME{Symbol(\"image/svg+xml\")}, ::Plots.Plot{Plots.GRBackend}) at C:\\Users\\ImI\\.julia\\packages\\Plots\\rmogG\\src\\output.jl:201",
      " [8] #sprint#325(::Nothing, ::Int64, ::Function, ::Function, ::MIME{Symbol(\"image/svg+xml\")}, ::Vararg{Any,N} where N) at .\\strings\\io.jl:101",
      " [9] sprint(::Function, ::MIME{Symbol(\"image/svg+xml\")}, ::Vararg{Any,N} where N) at .\\strings\\io.jl:97",
      " [10] display_dict(::Plots.Plot{Plots.GRBackend}) at C:\\Users\\ImI\\.julia\\packages\\Plots\\rmogG\\src\\init.jl:73",
      " [11] #invokelatest#1 at .\\essentials.jl:697 [inlined]",
      " [12] invokelatest at .\\essentials.jl:696 [inlined]",
      " [13] execute_request(::ZMQ.Socket, ::IJulia.Msg) at C:\\Users\\ImI\\.julia\\packages\\IJulia\\DL02A\\src\\execute_request.jl:97",
      " [14] #invokelatest#1 at .\\essentials.jl:697 [inlined]",
      " [15] invokelatest at .\\essentials.jl:696 [inlined]",
      " [16] eventloop(::ZMQ.Socket) at C:\\Users\\ImI\\.julia\\packages\\IJulia\\DL02A\\src\\eventloop.jl:8",
      " [17] (::getfield(IJulia, Symbol(\"##12#15\")))() at .\\task.jl:259"
     ]
    }
   ],
   "source": [
    "using Plots\n",
    "\n",
    "x_axis=100:100:500\n",
    "\n",
    "y_axis = []\n",
    "y_axis1 = []\n",
    "y_axis2 = []\n",
    "\n",
    "c1 = open(\"naive.csv\",\"w\")\n",
    "c2 = open(\"better.csv\",\"w\")\n",
    "c3 = open(\"blas.csv\",\"w\")\n",
    "\n",
    "for i in 1:10\n",
    "    for x in x_axis\n",
    "        append!(y_axis, @elapsed naive_multiplication(rand(x, x), rand(x, x)))\n",
    "        cur=@elapsed naive_multiplication(rand(x, x), rand(x, x))\n",
    "        write(c1, \"$x,$cur\\n\")\n",
    "        append!(y_axis1, @elapsed better_multiplication(rand(x, x), rand(x, x)))\n",
    "        cur=@elapsed better_multiplication(rand(x, x), rand(x, x))\n",
    "        write(c2, \"$x,$cur\\n\")\n",
    "        append!(y_axis2, @elapsed rand(x, x)*rand(x, x))\n",
    "        cur=@elapsed rand(x, x)*rand(x, x)\n",
    "        write(c3, \"$x,$cur\\n\")\n",
    "    end\n",
    "end\n",
    "\n",
    "close(c1)\n",
    "close(c2)\n",
    "close(c3)"
   ]
  },
  {
   "cell_type": "code",
   "execution_count": 47,
   "metadata": {},
   "outputs": [
    {
     "data": {
      "image/svg+xml": [
       "<?xml version=\"1.0\" encoding=\"utf-8\"?>\n",
       "<svg xmlns=\"http://www.w3.org/2000/svg\" xmlns:xlink=\"http://www.w3.org/1999/xlink\" width=\"600\" height=\"400\" viewBox=\"0 0 2400 1600\">\n",
       "<defs>\n",
       "  <clipPath id=\"clip0800\">\n",
       "    <rect x=\"0\" y=\"0\" width=\"2000\" height=\"2000\"/>\n",
       "  </clipPath>\n",
       "</defs>\n",
       "<defs>\n",
       "  <clipPath id=\"clip0801\">\n",
       "    <rect x=\"0\" y=\"0\" width=\"2400\" height=\"1600\"/>\n",
       "  </clipPath>\n",
       "</defs>\n",
       "<polygon clip-path=\"url(#clip0801)\" points=\"\n",
       "0,1600 2400,1600 2400,0 0,0 \n",
       "  \" fill=\"#ffffff\" fill-rule=\"evenodd\" fill-opacity=\"1\"/>\n",
       "<defs>\n",
       "  <clipPath id=\"clip0802\">\n",
       "    <rect x=\"480\" y=\"0\" width=\"1681\" height=\"1600\"/>\n",
       "  </clipPath>\n",
       "</defs>\n",
       "<polygon clip-path=\"url(#clip0801)\" points=\"\n",
       "184.243,1440.48 2321.26,1440.48 2321.26,47.2441 184.243,47.2441 \n",
       "  \" fill=\"#ffffff\" fill-rule=\"evenodd\" fill-opacity=\"1\"/>\n",
       "<defs>\n",
       "  <clipPath id=\"clip0803\">\n",
       "    <rect x=\"184\" y=\"47\" width=\"2138\" height=\"1394\"/>\n",
       "  </clipPath>\n",
       "</defs>\n",
       "<polyline clip-path=\"url(#clip0803)\" style=\"stroke:#000000; stroke-width:2; stroke-opacity:0.1; fill:none\" points=\"\n",
       "  468.73,1440.48 468.73,47.2441 \n",
       "  \"/>\n",
       "<polyline clip-path=\"url(#clip0803)\" style=\"stroke:#000000; stroke-width:2; stroke-opacity:0.1; fill:none\" points=\"\n",
       "  916.742,1440.48 916.742,47.2441 \n",
       "  \"/>\n",
       "<polyline clip-path=\"url(#clip0803)\" style=\"stroke:#000000; stroke-width:2; stroke-opacity:0.1; fill:none\" points=\"\n",
       "  1364.75,1440.48 1364.75,47.2441 \n",
       "  \"/>\n",
       "<polyline clip-path=\"url(#clip0803)\" style=\"stroke:#000000; stroke-width:2; stroke-opacity:0.1; fill:none\" points=\"\n",
       "  1812.77,1440.48 1812.77,47.2441 \n",
       "  \"/>\n",
       "<polyline clip-path=\"url(#clip0803)\" style=\"stroke:#000000; stroke-width:2; stroke-opacity:0.1; fill:none\" points=\"\n",
       "  2260.78,1440.48 2260.78,47.2441 \n",
       "  \"/>\n",
       "<polyline clip-path=\"url(#clip0803)\" style=\"stroke:#000000; stroke-width:2; stroke-opacity:0.1; fill:none\" points=\"\n",
       "  184.243,1397.4 2321.26,1397.4 \n",
       "  \"/>\n",
       "<polyline clip-path=\"url(#clip0803)\" style=\"stroke:#000000; stroke-width:2; stroke-opacity:0.1; fill:none\" points=\"\n",
       "  184.243,1057.39 2321.26,1057.39 \n",
       "  \"/>\n",
       "<polyline clip-path=\"url(#clip0803)\" style=\"stroke:#000000; stroke-width:2; stroke-opacity:0.1; fill:none\" points=\"\n",
       "  184.243,717.381 2321.26,717.381 \n",
       "  \"/>\n",
       "<polyline clip-path=\"url(#clip0803)\" style=\"stroke:#000000; stroke-width:2; stroke-opacity:0.1; fill:none\" points=\"\n",
       "  184.243,377.373 2321.26,377.373 \n",
       "  \"/>\n",
       "<polyline clip-path=\"url(#clip0801)\" style=\"stroke:#000000; stroke-width:4; stroke-opacity:1; fill:none\" points=\"\n",
       "  184.243,1440.48 2321.26,1440.48 \n",
       "  \"/>\n",
       "<polyline clip-path=\"url(#clip0801)\" style=\"stroke:#000000; stroke-width:4; stroke-opacity:1; fill:none\" points=\"\n",
       "  184.243,1440.48 184.243,47.2441 \n",
       "  \"/>\n",
       "<polyline clip-path=\"url(#clip0801)\" style=\"stroke:#000000; stroke-width:4; stroke-opacity:1; fill:none\" points=\"\n",
       "  468.73,1440.48 468.73,1419.58 \n",
       "  \"/>\n",
       "<polyline clip-path=\"url(#clip0801)\" style=\"stroke:#000000; stroke-width:4; stroke-opacity:1; fill:none\" points=\"\n",
       "  916.742,1440.48 916.742,1419.58 \n",
       "  \"/>\n",
       "<polyline clip-path=\"url(#clip0801)\" style=\"stroke:#000000; stroke-width:4; stroke-opacity:1; fill:none\" points=\"\n",
       "  1364.75,1440.48 1364.75,1419.58 \n",
       "  \"/>\n",
       "<polyline clip-path=\"url(#clip0801)\" style=\"stroke:#000000; stroke-width:4; stroke-opacity:1; fill:none\" points=\"\n",
       "  1812.77,1440.48 1812.77,1419.58 \n",
       "  \"/>\n",
       "<polyline clip-path=\"url(#clip0801)\" style=\"stroke:#000000; stroke-width:4; stroke-opacity:1; fill:none\" points=\"\n",
       "  2260.78,1440.48 2260.78,1419.58 \n",
       "  \"/>\n",
       "<polyline clip-path=\"url(#clip0801)\" style=\"stroke:#000000; stroke-width:4; stroke-opacity:1; fill:none\" points=\"\n",
       "  184.243,1397.4 216.298,1397.4 \n",
       "  \"/>\n",
       "<polyline clip-path=\"url(#clip0801)\" style=\"stroke:#000000; stroke-width:4; stroke-opacity:1; fill:none\" points=\"\n",
       "  184.243,1057.39 216.298,1057.39 \n",
       "  \"/>\n",
       "<polyline clip-path=\"url(#clip0801)\" style=\"stroke:#000000; stroke-width:4; stroke-opacity:1; fill:none\" points=\"\n",
       "  184.243,717.381 216.298,717.381 \n",
       "  \"/>\n",
       "<polyline clip-path=\"url(#clip0801)\" style=\"stroke:#000000; stroke-width:4; stroke-opacity:1; fill:none\" points=\"\n",
       "  184.243,377.373 216.298,377.373 \n",
       "  \"/>\n",
       "<g clip-path=\"url(#clip0801)\">\n",
       "<text style=\"fill:#000000; fill-opacity:1; font-family:Arial,Helvetica Neue,Helvetica,sans-serif; font-size:48px; text-anchor:middle;\" transform=\"rotate(0, 468.73, 1494.48)\" x=\"468.73\" y=\"1494.48\">200</text>\n",
       "</g>\n",
       "<g clip-path=\"url(#clip0801)\">\n",
       "<text style=\"fill:#000000; fill-opacity:1; font-family:Arial,Helvetica Neue,Helvetica,sans-serif; font-size:48px; text-anchor:middle;\" transform=\"rotate(0, 916.742, 1494.48)\" x=\"916.742\" y=\"1494.48\">400</text>\n",
       "</g>\n",
       "<g clip-path=\"url(#clip0801)\">\n",
       "<text style=\"fill:#000000; fill-opacity:1; font-family:Arial,Helvetica Neue,Helvetica,sans-serif; font-size:48px; text-anchor:middle;\" transform=\"rotate(0, 1364.75, 1494.48)\" x=\"1364.75\" y=\"1494.48\">600</text>\n",
       "</g>\n",
       "<g clip-path=\"url(#clip0801)\">\n",
       "<text style=\"fill:#000000; fill-opacity:1; font-family:Arial,Helvetica Neue,Helvetica,sans-serif; font-size:48px; text-anchor:middle;\" transform=\"rotate(0, 1812.77, 1494.48)\" x=\"1812.77\" y=\"1494.48\">800</text>\n",
       "</g>\n",
       "<g clip-path=\"url(#clip0801)\">\n",
       "<text style=\"fill:#000000; fill-opacity:1; font-family:Arial,Helvetica Neue,Helvetica,sans-serif; font-size:48px; text-anchor:middle;\" transform=\"rotate(0, 2260.78, 1494.48)\" x=\"2260.78\" y=\"1494.48\">1000</text>\n",
       "</g>\n",
       "<g clip-path=\"url(#clip0801)\">\n",
       "<text style=\"fill:#000000; fill-opacity:1; font-family:Arial,Helvetica Neue,Helvetica,sans-serif; font-size:48px; text-anchor:end;\" transform=\"rotate(0, 160.243, 1414.9)\" x=\"160.243\" y=\"1414.9\">0</text>\n",
       "</g>\n",
       "<g clip-path=\"url(#clip0801)\">\n",
       "<text style=\"fill:#000000; fill-opacity:1; font-family:Arial,Helvetica Neue,Helvetica,sans-serif; font-size:48px; text-anchor:end;\" transform=\"rotate(0, 160.243, 1074.89)\" x=\"160.243\" y=\"1074.89\">1</text>\n",
       "</g>\n",
       "<g clip-path=\"url(#clip0801)\">\n",
       "<text style=\"fill:#000000; fill-opacity:1; font-family:Arial,Helvetica Neue,Helvetica,sans-serif; font-size:48px; text-anchor:end;\" transform=\"rotate(0, 160.243, 734.881)\" x=\"160.243\" y=\"734.881\">2</text>\n",
       "</g>\n",
       "<g clip-path=\"url(#clip0801)\">\n",
       "<text style=\"fill:#000000; fill-opacity:1; font-family:Arial,Helvetica Neue,Helvetica,sans-serif; font-size:48px; text-anchor:end;\" transform=\"rotate(0, 160.243, 394.873)\" x=\"160.243\" y=\"394.873\">3</text>\n",
       "</g>\n",
       "<g clip-path=\"url(#clip0801)\">\n",
       "<text style=\"fill:#000000; fill-opacity:1; font-family:Arial,Helvetica Neue,Helvetica,sans-serif; font-size:66px; text-anchor:middle;\" transform=\"rotate(0, 1252.75, 1590.4)\" x=\"1252.75\" y=\"1590.4\">size</text>\n",
       "</g>\n",
       "<g clip-path=\"url(#clip0801)\">\n",
       "<text style=\"fill:#000000; fill-opacity:1; font-family:Arial,Helvetica Neue,Helvetica,sans-serif; font-size:66px; text-anchor:middle;\" transform=\"rotate(-90, 57.6, 743.863)\" x=\"57.6\" y=\"743.863\">time [s]</text>\n",
       "</g>\n",
       "<polyline clip-path=\"url(#clip0803)\" style=\"stroke:#009af9; stroke-width:4; stroke-opacity:1; fill:none\" points=\"\n",
       "  244.724,1351.06 468.73,1398.93 692.736,1401.05 916.742,1357.44 1140.75,1268.08 1364.75,1132.98 1588.76,952.138 1812.77,725.555 2036.77,453.231 2260.78,135.164 \n",
       "  \n",
       "  \"/>\n",
       "<circle clip-path=\"url(#clip0803)\" style=\"fill:#000000; stroke:none; fill-opacity:1\" cx=\"244.724\" cy=\"1396.18\" r=\"18\"/>\n",
       "<circle clip-path=\"url(#clip0803)\" style=\"fill:#e26f46; stroke:none; fill-opacity:1\" cx=\"244.724\" cy=\"1396.18\" r=\"14\"/>\n",
       "<circle clip-path=\"url(#clip0803)\" style=\"fill:#000000; stroke:none; fill-opacity:1\" cx=\"468.73\" cy=\"1386.52\" r=\"18\"/>\n",
       "<circle clip-path=\"url(#clip0803)\" style=\"fill:#e26f46; stroke:none; fill-opacity:1\" cx=\"468.73\" cy=\"1386.52\" r=\"14\"/>\n",
       "<circle clip-path=\"url(#clip0803)\" style=\"fill:#000000; stroke:none; fill-opacity:1\" cx=\"692.736\" cy=\"1358.32\" r=\"18\"/>\n",
       "<circle clip-path=\"url(#clip0803)\" style=\"fill:#e26f46; stroke:none; fill-opacity:1\" cx=\"692.736\" cy=\"1358.32\" r=\"14\"/>\n",
       "<circle clip-path=\"url(#clip0803)\" style=\"fill:#000000; stroke:none; fill-opacity:1\" cx=\"916.742\" cy=\"1328.01\" r=\"18\"/>\n",
       "<circle clip-path=\"url(#clip0803)\" style=\"fill:#e26f46; stroke:none; fill-opacity:1\" cx=\"916.742\" cy=\"1328.01\" r=\"14\"/>\n",
       "<circle clip-path=\"url(#clip0803)\" style=\"fill:#000000; stroke:none; fill-opacity:1\" cx=\"1140.75\" cy=\"1250.22\" r=\"18\"/>\n",
       "<circle clip-path=\"url(#clip0803)\" style=\"fill:#e26f46; stroke:none; fill-opacity:1\" cx=\"1140.75\" cy=\"1250.22\" r=\"14\"/>\n",
       "<circle clip-path=\"url(#clip0803)\" style=\"fill:#000000; stroke:none; fill-opacity:1\" cx=\"1364.75\" cy=\"1145.41\" r=\"18\"/>\n",
       "<circle clip-path=\"url(#clip0803)\" style=\"fill:#e26f46; stroke:none; fill-opacity:1\" cx=\"1364.75\" cy=\"1145.41\" r=\"14\"/>\n",
       "<circle clip-path=\"url(#clip0803)\" style=\"fill:#000000; stroke:none; fill-opacity:1\" cx=\"1588.76\" cy=\"1002.74\" r=\"18\"/>\n",
       "<circle clip-path=\"url(#clip0803)\" style=\"fill:#e26f46; stroke:none; fill-opacity:1\" cx=\"1588.76\" cy=\"1002.74\" r=\"14\"/>\n",
       "<circle clip-path=\"url(#clip0803)\" style=\"fill:#000000; stroke:none; fill-opacity:1\" cx=\"1812.77\" cy=\"739.348\" r=\"18\"/>\n",
       "<circle clip-path=\"url(#clip0803)\" style=\"fill:#e26f46; stroke:none; fill-opacity:1\" cx=\"1812.77\" cy=\"739.348\" r=\"14\"/>\n",
       "<circle clip-path=\"url(#clip0803)\" style=\"fill:#000000; stroke:none; fill-opacity:1\" cx=\"2036.77\" cy=\"482.186\" r=\"18\"/>\n",
       "<circle clip-path=\"url(#clip0803)\" style=\"fill:#e26f46; stroke:none; fill-opacity:1\" cx=\"2036.77\" cy=\"482.186\" r=\"14\"/>\n",
       "<circle clip-path=\"url(#clip0803)\" style=\"fill:#000000; stroke:none; fill-opacity:1\" cx=\"2260.78\" cy=\"86.6754\" r=\"18\"/>\n",
       "<circle clip-path=\"url(#clip0803)\" style=\"fill:#e26f46; stroke:none; fill-opacity:1\" cx=\"2260.78\" cy=\"86.6754\" r=\"14\"/>\n",
       "<polygon clip-path=\"url(#clip0801)\" points=\"\n",
       "1827.36,312.204 2249.26,312.204 2249.26,130.764 1827.36,130.764 \n",
       "  \" fill=\"#ffffff\" fill-rule=\"evenodd\" fill-opacity=\"1\"/>\n",
       "<polyline clip-path=\"url(#clip0801)\" style=\"stroke:#000000; stroke-width:4; stroke-opacity:1; fill:none\" points=\"\n",
       "  1827.36,312.204 2249.26,312.204 2249.26,130.764 1827.36,130.764 1827.36,312.204 \n",
       "  \"/>\n",
       "<polyline clip-path=\"url(#clip0801)\" style=\"stroke:#009af9; stroke-width:4; stroke-opacity:1; fill:none\" points=\"\n",
       "  1851.36,191.244 1995.36,191.244 \n",
       "  \"/>\n",
       "<g clip-path=\"url(#clip0801)\">\n",
       "<text style=\"fill:#000000; fill-opacity:1; font-family:Arial,Helvetica Neue,Helvetica,sans-serif; font-size:48px; text-anchor:start;\" transform=\"rotate(0, 2019.36, 208.744)\" x=\"2019.36\" y=\"208.744\">fitNAIVE</text>\n",
       "</g>\n",
       "<circle clip-path=\"url(#clip0801)\" style=\"fill:#000000; stroke:none; fill-opacity:1\" cx=\"1935.36\" cy=\"251.724\" r=\"25\"/>\n",
       "<circle clip-path=\"url(#clip0801)\" style=\"fill:#e26f46; stroke:none; fill-opacity:1\" cx=\"1935.36\" cy=\"251.724\" r=\"21\"/>\n",
       "<g clip-path=\"url(#clip0801)\">\n",
       "<text style=\"fill:#000000; fill-opacity:1; font-family:Arial,Helvetica Neue,Helvetica,sans-serif; font-size:48px; text-anchor:start;\" transform=\"rotate(0, 2019.36, 269.224)\" x=\"2019.36\" y=\"269.224\">y2</text>\n",
       "</g>\n",
       "</svg>\n"
      ]
     },
     "execution_count": 47,
     "metadata": {},
     "output_type": "execute_result"
    }
   ],
   "source": [
    "using Plots\n",
    "\n",
    "x_axis=100:100:1000\n",
    "\n",
    "y_axis = []\n",
    "y_axis1 = []\n",
    "y_axis2 = []\n",
    "\n",
    "for x in x_axis\n",
    "    append!(y_axis, @elapsed naive_multiplication(rand(x, x), rand(x, x)))\n",
    "    append!(y_axis1, @elapsed better_multiplication(rand(x, x), rand(x, x)))\n",
    "    append!(y_axis2, @elapsed rand(x, x)*rand(x, x))\n",
    "end\n",
    "\n",
    "fit1=polyfit(x_axis, y_axis,2)\n",
    "xd=100:100:1000\n",
    "plot(x_axis, polyval(fit1, xd), labels =[\"fitNAIVE\"], xlabel = \"size\", ylabel = \"time [s]\")\n",
    "scatter!(x_axis,y_axis)"
   ]
  },
  {
   "cell_type": "code",
   "execution_count": null,
   "metadata": {},
   "outputs": [],
   "source": []
  },
  {
   "cell_type": "code",
   "execution_count": null,
   "metadata": {},
   "outputs": [],
   "source": []
  }
 ],
 "metadata": {
  "kernelspec": {
   "display_name": "Julia 1.0.2",
   "language": "julia",
   "name": "julia-1.0"
  },
  "language_info": {
   "file_extension": ".jl",
   "mimetype": "application/julia",
   "name": "julia",
   "version": "1.0.2"
  }
 },
 "nbformat": 4,
 "nbformat_minor": 2
}
